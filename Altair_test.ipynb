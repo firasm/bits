{
 "cells": [
  {
   "cell_type": "code",
   "execution_count": 2,
   "metadata": {},
   "outputs": [
    {
     "data": {
      "application/vnd.vegalite.v4+json": {
       "$schema": "https://vega.github.io/schema/vega-lite/v4.0.2.json",
       "config": {
        "view": {
         "continuousHeight": 300,
         "continuousWidth": 400
        }
       },
       "data": {
        "name": "data-093ece8c35bb2d41094cfb6138ec810b"
       },
       "datasets": {
        "data-093ece8c35bb2d41094cfb6138ec810b": [
         {
          "site": "University Farm",
          "variety": "Manchuria",
          "year": 1931,
          "yield": 27
         },
         {
          "site": "Waseca",
          "variety": "Manchuria",
          "year": 1931,
          "yield": 48.86667
         },
         {
          "site": "Morris",
          "variety": "Manchuria",
          "year": 1931,
          "yield": 27.43334
         },
         {
          "site": "Crookston",
          "variety": "Manchuria",
          "year": 1931,
          "yield": 39.93333
         },
         {
          "site": "Grand Rapids",
          "variety": "Manchuria",
          "year": 1931,
          "yield": 32.96667
         },
         {
          "site": "Duluth",
          "variety": "Manchuria",
          "year": 1931,
          "yield": 28.96667
         },
         {
          "site": "University Farm",
          "variety": "Glabron",
          "year": 1931,
          "yield": 43.06666
         },
         {
          "site": "Waseca",
          "variety": "Glabron",
          "year": 1931,
          "yield": 55.2
         },
         {
          "site": "Morris",
          "variety": "Glabron",
          "year": 1931,
          "yield": 28.76667
         },
         {
          "site": "Crookston",
          "variety": "Glabron",
          "year": 1931,
          "yield": 38.13333
         },
         {
          "site": "Grand Rapids",
          "variety": "Glabron",
          "year": 1931,
          "yield": 29.13333
         },
         {
          "site": "Duluth",
          "variety": "Glabron",
          "year": 1931,
          "yield": 29.66667
         },
         {
          "site": "University Farm",
          "variety": "Svansota",
          "year": 1931,
          "yield": 35.13333
         },
         {
          "site": "Waseca",
          "variety": "Svansota",
          "year": 1931,
          "yield": 47.33333
         },
         {
          "site": "Morris",
          "variety": "Svansota",
          "year": 1931,
          "yield": 25.76667
         },
         {
          "site": "Crookston",
          "variety": "Svansota",
          "year": 1931,
          "yield": 40.46667
         },
         {
          "site": "Grand Rapids",
          "variety": "Svansota",
          "year": 1931,
          "yield": 29.66667
         },
         {
          "site": "Duluth",
          "variety": "Svansota",
          "year": 1931,
          "yield": 25.7
         },
         {
          "site": "University Farm",
          "variety": "Velvet",
          "year": 1931,
          "yield": 39.9
         },
         {
          "site": "Waseca",
          "variety": "Velvet",
          "year": 1931,
          "yield": 50.23333
         },
         {
          "site": "Morris",
          "variety": "Velvet",
          "year": 1931,
          "yield": 26.13333
         },
         {
          "site": "Crookston",
          "variety": "Velvet",
          "year": 1931,
          "yield": 41.33333
         },
         {
          "site": "Grand Rapids",
          "variety": "Velvet",
          "year": 1931,
          "yield": 23.03333
         },
         {
          "site": "Duluth",
          "variety": "Velvet",
          "year": 1931,
          "yield": 26.3
         },
         {
          "site": "University Farm",
          "variety": "Trebi",
          "year": 1931,
          "yield": 36.56666
         },
         {
          "site": "Waseca",
          "variety": "Trebi",
          "year": 1931,
          "yield": 63.8333
         },
         {
          "site": "Morris",
          "variety": "Trebi",
          "year": 1931,
          "yield": 43.76667
         },
         {
          "site": "Crookston",
          "variety": "Trebi",
          "year": 1931,
          "yield": 46.93333
         },
         {
          "site": "Grand Rapids",
          "variety": "Trebi",
          "year": 1931,
          "yield": 29.76667
         },
         {
          "site": "Duluth",
          "variety": "Trebi",
          "year": 1931,
          "yield": 33.93333
         },
         {
          "site": "University Farm",
          "variety": "No. 457",
          "year": 1931,
          "yield": 43.26667
         },
         {
          "site": "Waseca",
          "variety": "No. 457",
          "year": 1931,
          "yield": 58.1
         },
         {
          "site": "Morris",
          "variety": "No. 457",
          "year": 1931,
          "yield": 28.7
         },
         {
          "site": "Crookston",
          "variety": "No. 457",
          "year": 1931,
          "yield": 45.66667
         },
         {
          "site": "Grand Rapids",
          "variety": "No. 457",
          "year": 1931,
          "yield": 32.16667
         },
         {
          "site": "Duluth",
          "variety": "No. 457",
          "year": 1931,
          "yield": 33.6
         },
         {
          "site": "University Farm",
          "variety": "No. 462",
          "year": 1931,
          "yield": 36.6
         },
         {
          "site": "Waseca",
          "variety": "No. 462",
          "year": 1931,
          "yield": 65.7667
         },
         {
          "site": "Morris",
          "variety": "No. 462",
          "year": 1931,
          "yield": 30.36667
         },
         {
          "site": "Crookston",
          "variety": "No. 462",
          "year": 1931,
          "yield": 48.56666
         },
         {
          "site": "Grand Rapids",
          "variety": "No. 462",
          "year": 1931,
          "yield": 24.93334
         },
         {
          "site": "Duluth",
          "variety": "No. 462",
          "year": 1931,
          "yield": 28.1
         },
         {
          "site": "University Farm",
          "variety": "Peatland",
          "year": 1931,
          "yield": 32.76667
         },
         {
          "site": "Waseca",
          "variety": "Peatland",
          "year": 1931,
          "yield": 48.56666
         },
         {
          "site": "Morris",
          "variety": "Peatland",
          "year": 1931,
          "yield": 29.86667
         },
         {
          "site": "Crookston",
          "variety": "Peatland",
          "year": 1931,
          "yield": 41.6
         },
         {
          "site": "Grand Rapids",
          "variety": "Peatland",
          "year": 1931,
          "yield": 34.7
         },
         {
          "site": "Duluth",
          "variety": "Peatland",
          "year": 1931,
          "yield": 32
         },
         {
          "site": "University Farm",
          "variety": "No. 475",
          "year": 1931,
          "yield": 24.66667
         },
         {
          "site": "Waseca",
          "variety": "No. 475",
          "year": 1931,
          "yield": 46.76667
         },
         {
          "site": "Morris",
          "variety": "No. 475",
          "year": 1931,
          "yield": 22.6
         },
         {
          "site": "Crookston",
          "variety": "No. 475",
          "year": 1931,
          "yield": 44.1
         },
         {
          "site": "Grand Rapids",
          "variety": "No. 475",
          "year": 1931,
          "yield": 19.7
         },
         {
          "site": "Duluth",
          "variety": "No. 475",
          "year": 1931,
          "yield": 33.06666
         },
         {
          "site": "University Farm",
          "variety": "Wisconsin No. 38",
          "year": 1931,
          "yield": 39.3
         },
         {
          "site": "Waseca",
          "variety": "Wisconsin No. 38",
          "year": 1931,
          "yield": 58.8
         },
         {
          "site": "Morris",
          "variety": "Wisconsin No. 38",
          "year": 1931,
          "yield": 29.46667
         },
         {
          "site": "Crookston",
          "variety": "Wisconsin No. 38",
          "year": 1931,
          "yield": 49.86667
         },
         {
          "site": "Grand Rapids",
          "variety": "Wisconsin No. 38",
          "year": 1931,
          "yield": 34.46667
         },
         {
          "site": "Duluth",
          "variety": "Wisconsin No. 38",
          "year": 1931,
          "yield": 31.6
         },
         {
          "site": "University Farm",
          "variety": "Manchuria",
          "year": 1932,
          "yield": 26.9
         },
         {
          "site": "Waseca",
          "variety": "Manchuria",
          "year": 1932,
          "yield": 33.46667
         },
         {
          "site": "Morris",
          "variety": "Manchuria",
          "year": 1932,
          "yield": 34.36666
         },
         {
          "site": "Crookston",
          "variety": "Manchuria",
          "year": 1932,
          "yield": 32.96667
         },
         {
          "site": "Grand Rapids",
          "variety": "Manchuria",
          "year": 1932,
          "yield": 22.13333
         },
         {
          "site": "Duluth",
          "variety": "Manchuria",
          "year": 1932,
          "yield": 22.56667
         },
         {
          "site": "University Farm",
          "variety": "Glabron",
          "year": 1932,
          "yield": 36.8
         },
         {
          "site": "Waseca",
          "variety": "Glabron",
          "year": 1932,
          "yield": 37.73333
         },
         {
          "site": "Morris",
          "variety": "Glabron",
          "year": 1932,
          "yield": 35.13333
         },
         {
          "site": "Crookston",
          "variety": "Glabron",
          "year": 1932,
          "yield": 26.16667
         },
         {
          "site": "Grand Rapids",
          "variety": "Glabron",
          "year": 1932,
          "yield": 14.43333
         },
         {
          "site": "Duluth",
          "variety": "Glabron",
          "year": 1932,
          "yield": 25.86667
         },
         {
          "site": "University Farm",
          "variety": "Svansota",
          "year": 1932,
          "yield": 27.43334
         },
         {
          "site": "Waseca",
          "variety": "Svansota",
          "year": 1932,
          "yield": 38.5
         },
         {
          "site": "Morris",
          "variety": "Svansota",
          "year": 1932,
          "yield": 35.03333
         },
         {
          "site": "Crookston",
          "variety": "Svansota",
          "year": 1932,
          "yield": 20.63333
         },
         {
          "site": "Grand Rapids",
          "variety": "Svansota",
          "year": 1932,
          "yield": 16.63333
         },
         {
          "site": "Duluth",
          "variety": "Svansota",
          "year": 1932,
          "yield": 22.23333
         },
         {
          "site": "University Farm",
          "variety": "Velvet",
          "year": 1932,
          "yield": 26.8
         },
         {
          "site": "Waseca",
          "variety": "Velvet",
          "year": 1932,
          "yield": 37.4
         },
         {
          "site": "Morris",
          "variety": "Velvet",
          "year": 1932,
          "yield": 38.83333
         },
         {
          "site": "Crookston",
          "variety": "Velvet",
          "year": 1932,
          "yield": 32.06666
         },
         {
          "site": "Grand Rapids",
          "variety": "Velvet",
          "year": 1932,
          "yield": 32.23333
         },
         {
          "site": "Duluth",
          "variety": "Velvet",
          "year": 1932,
          "yield": 22.46667
         },
         {
          "site": "University Farm",
          "variety": "Trebi",
          "year": 1932,
          "yield": 29.06667
         },
         {
          "site": "Waseca",
          "variety": "Trebi",
          "year": 1932,
          "yield": 49.2333
         },
         {
          "site": "Morris",
          "variety": "Trebi",
          "year": 1932,
          "yield": 46.63333
         },
         {
          "site": "Crookston",
          "variety": "Trebi",
          "year": 1932,
          "yield": 41.83333
         },
         {
          "site": "Grand Rapids",
          "variety": "Trebi",
          "year": 1932,
          "yield": 20.63333
         },
         {
          "site": "Duluth",
          "variety": "Trebi",
          "year": 1932,
          "yield": 30.6
         },
         {
          "site": "University Farm",
          "variety": "No. 457",
          "year": 1932,
          "yield": 26.43334
         },
         {
          "site": "Waseca",
          "variety": "No. 457",
          "year": 1932,
          "yield": 42.2
         },
         {
          "site": "Morris",
          "variety": "No. 457",
          "year": 1932,
          "yield": 43.53334
         },
         {
          "site": "Crookston",
          "variety": "No. 457",
          "year": 1932,
          "yield": 34.33333
         },
         {
          "site": "Grand Rapids",
          "variety": "No. 457",
          "year": 1932,
          "yield": 19.46667
         },
         {
          "site": "Duluth",
          "variety": "No. 457",
          "year": 1932,
          "yield": 22.7
         },
         {
          "site": "University Farm",
          "variety": "No. 462",
          "year": 1932,
          "yield": 25.56667
         },
         {
          "site": "Waseca",
          "variety": "No. 462",
          "year": 1932,
          "yield": 44.7
         },
         {
          "site": "Morris",
          "variety": "No. 462",
          "year": 1932,
          "yield": 47
         },
         {
          "site": "Crookston",
          "variety": "No. 462",
          "year": 1932,
          "yield": 30.53333
         },
         {
          "site": "Grand Rapids",
          "variety": "No. 462",
          "year": 1932,
          "yield": 19.9
         },
         {
          "site": "Duluth",
          "variety": "No. 462",
          "year": 1932,
          "yield": 22.5
         },
         {
          "site": "University Farm",
          "variety": "Peatland",
          "year": 1932,
          "yield": 28.06667
         },
         {
          "site": "Waseca",
          "variety": "Peatland",
          "year": 1932,
          "yield": 36.03333
         },
         {
          "site": "Morris",
          "variety": "Peatland",
          "year": 1932,
          "yield": 43.2
         },
         {
          "site": "Crookston",
          "variety": "Peatland",
          "year": 1932,
          "yield": 25.23333
         },
         {
          "site": "Grand Rapids",
          "variety": "Peatland",
          "year": 1932,
          "yield": 26.76667
         },
         {
          "site": "Duluth",
          "variety": "Peatland",
          "year": 1932,
          "yield": 31.36667
         },
         {
          "site": "University Farm",
          "variety": "No. 475",
          "year": 1932,
          "yield": 30
         },
         {
          "site": "Waseca",
          "variety": "No. 475",
          "year": 1932,
          "yield": 41.26667
         },
         {
          "site": "Morris",
          "variety": "No. 475",
          "year": 1932,
          "yield": 44.23333
         },
         {
          "site": "Crookston",
          "variety": "No. 475",
          "year": 1932,
          "yield": 32.13333
         },
         {
          "site": "Grand Rapids",
          "variety": "No. 475",
          "year": 1932,
          "yield": 15.23333
         },
         {
          "site": "Duluth",
          "variety": "No. 475",
          "year": 1932,
          "yield": 27.36667
         },
         {
          "site": "University Farm",
          "variety": "Wisconsin No. 38",
          "year": 1932,
          "yield": 38
         },
         {
          "site": "Waseca",
          "variety": "Wisconsin No. 38",
          "year": 1932,
          "yield": 58.16667
         },
         {
          "site": "Morris",
          "variety": "Wisconsin No. 38",
          "year": 1932,
          "yield": 47.16667
         },
         {
          "site": "Crookston",
          "variety": "Wisconsin No. 38",
          "year": 1932,
          "yield": 35.9
         },
         {
          "site": "Grand Rapids",
          "variety": "Wisconsin No. 38",
          "year": 1932,
          "yield": 20.66667
         },
         {
          "site": "Duluth",
          "variety": "Wisconsin No. 38",
          "year": 1932,
          "yield": 29.33333
         }
        ]
       },
       "facet": {
        "column": {
         "field": "site",
         "type": "nominal"
        }
       },
       "spec": {
        "layer": [
         {
          "encoding": {
           "color": {
            "field": "year",
            "type": "nominal"
           },
           "x": {
            "field": "year",
            "type": "ordinal"
           },
           "y": {
            "aggregate": "mean",
            "field": "yield",
            "title": "Mean Yield",
            "type": "quantitative"
           }
          },
          "mark": "bar"
         },
         {
          "encoding": {
           "x": {
            "field": "year",
            "type": "ordinal"
           },
           "y": {
            "field": "yield",
            "type": "quantitative"
           }
          },
          "mark": {
           "extent": "ci",
           "type": "errorbar"
          }
         }
        ]
       }
      },
      "image/png": "[encoded data removed]",
      "text/plain": [
       "<VegaLite 4 object>\n",
       "\n",
       "If you see this message, it means the renderer has not been properly enabled\n",
       "for the frontend that you are using. For more information, see\n",
       "https://altair-viz.github.io/user_guide/troubleshooting.html\n"
      ]
     },
     "execution_count": 2,
     "metadata": {},
     "output_type": "execute_result"
    }
   ],
   "source": [
    "import altair as alt\n",
    "from vega_datasets import data\n",
    "\n",
    "alt.renderers.enable('mimetype')\n",
    "\n",
    "source = data.barley()\n",
    "\n",
    "bars = alt.Chart().mark_bar().encode(\n",
    "    x='year:O',\n",
    "    y=alt.Y('mean(yield):Q', title='Mean Yield'),\n",
    "    color='year:N',\n",
    ")\n",
    "\n",
    "error_bars = alt.Chart().mark_errorbar(extent='ci').encode(\n",
    "    x='year:O',\n",
    "    y='yield:Q'\n",
    ")\n",
    "\n",
    "alt.layer(bars, error_bars, data=source).facet(\n",
    "    column='site:N'\n",
    ")"
   ]
  },
  {
   "cell_type": "code",
   "execution_count": null,
   "metadata": {},
   "outputs": [],
   "source": []
  }
 ],
 "metadata": {
  "kernelspec": {
   "display_name": "Python 3",
   "language": "python",
   "name": "python3"
  },
  "language_info": {
   "codemirror_mode": {
    "name": "ipython",
    "version": 3
   },
   "file_extension": ".py",
   "mimetype": "text/x-python",
   "name": "python",
   "nbconvert_exporter": "python",
   "pygments_lexer": "ipython3",
   "version": "3.7.6"
  }
 },
 "nbformat": 4,
 "nbformat_minor": 4
}
